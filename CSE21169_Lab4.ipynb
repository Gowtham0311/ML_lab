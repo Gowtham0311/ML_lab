{
  "nbformat": 4,
  "nbformat_minor": 0,
  "metadata": {
    "colab": {
      "provenance": []
    },
    "kernelspec": {
      "name": "python3",
      "display_name": "Python 3"
    },
    "language_info": {
      "name": "python"
    }
  },
  "cells": [
    {
      "cell_type": "code",
      "execution_count": 16,
      "metadata": {
        "colab": {
          "base_uri": "https://localhost:8080/"
        },
        "id": "6xWHnfkGeN41",
        "outputId": "95fdf32d-e8b7-46c0-f765-71a1187a9942"
      },
      "outputs": [
        {
          "output_type": "stream",
          "name": "stdout",
          "text": [
            "      age  income student credit_rating buys_computer\n",
            "0    <=30    high      no          fair            no\n",
            "1    <=30    high      no     excellent            no\n",
            "2   31…40    high      no          fair           yes\n",
            "3     >40  medium      no          fair           yes\n",
            "4     >40     low     yes          fair           yes\n",
            "5     >40     low     yes     excellent            no\n",
            "6   31…40     low     yes     excellent           yes\n",
            "7    <=30  medium      no          fair            no\n",
            "8    <=30     low     yes          fair           yes\n",
            "9     >40  medium     yes          fair           yes\n",
            "10   <=30  medium     yes     excellent           yes\n",
            "11  31…40  medium      no     excellent           yes\n",
            "12  31…40    high     yes          fair           yes\n",
            "13    >40  medium      no     excellent            no\n",
            "Age Entropy is : 1.5774062828523454\n",
            "Income Entropy is : 1.5566567074628228\n",
            "Student Entropy is : 1.0\n",
            "Credit Rating Entropy is : 0.9852281360342515\n",
            "Buys Computer Entropy(Class Label): 0.9402859586706311\n",
            "\n",
            "Information Gain for Age is: 1.1102230246251565e-16\n",
            "Information Gain for Income is: 1.6653345369377348e-16\n",
            "Information Gain for Student is: 0.0\n",
            "Information Gain for Credit Rating is : 1.1102230246251565e-16\n",
            "\n",
            "First feature for constructing decision tree is Income.\n"
          ]
        }
      ],
      "source": [
        "import math\n",
        "import pandas as pd\n",
        "data = {\n",
        "    'age': ['<=30', '<=30', '31…40', '>40', '>40', '>40', '31…40', '<=30', '<=30', '>40', '<=30', '31…40', '31…40', '>40'],\n",
        "    'income': ['high', 'high', 'high', 'medium', 'low', 'low', 'low', 'medium', 'low', 'medium', 'medium', 'medium', 'high', 'medium'],\n",
        "    'student': ['no', 'no', 'no', 'no', 'yes', 'yes', 'yes', 'no', 'yes', 'yes', 'yes', 'no', 'yes', 'no'],\n",
        "    'credit_rating': ['fair', 'excellent', 'fair', 'fair', 'fair', 'excellent', 'excellent', 'fair', 'fair', 'fair', 'excellent', 'excellent', 'fair', 'excellent'],\n",
        "    'buys_computer': ['no', 'no', 'yes', 'yes', 'yes', 'no', 'yes', 'no', 'yes', 'yes', 'yes', 'yes', 'yes', 'no']\n",
        "}\n",
        "\n",
        "data = pd.DataFrame(data)\n",
        "print(data)\n",
        "def entropy(attribute):\n",
        "  values = data[attribute].unique()\n",
        "  entropy = 0\n",
        "  for value in values:\n",
        "      p = len(data[data[attribute] == value]) / len(data)\n",
        "      entropy += -p * math.log2(p)\n",
        "  return entropy\n",
        "\n",
        "age_entropy = entropy('age')\n",
        "income_entropy = entropy('income')\n",
        "student_entropy = entropy('student')\n",
        "credit_rating_entropy = entropy('credit_rating')\n",
        "buys_computer_entropy = entropy('buys_computer')\n",
        "print('Age Entropy is :', age_entropy)\n",
        "print('Income Entropy is :', income_entropy)\n",
        "print('Student Entropy is :', student_entropy)\n",
        "print('Credit Rating Entropy is :', credit_rating_entropy)\n",
        "print('Buys Computer Entropy(Class Label):', buys_computer_entropy)\n",
        "\n",
        "def information_gain(attribute):\n",
        "\n",
        "  values = data[attribute].unique()\n",
        "  information_gain = buys_computer_entropy\n",
        "  for value in values:\n",
        "      subset = data[data[attribute] == value]\n",
        "      p = len(subset) / len(data)\n",
        "      information_gain -= p * entropy('buys_computer')\n",
        "  return information_gain\n",
        "\n",
        "age_information_gain = information_gain('age')\n",
        "income_information_gain = information_gain('income')\n",
        "student_information_gain = information_gain('student')\n",
        "credit_rating_information_gain = information_gain('credit_rating')\n",
        "\n",
        "print()\n",
        "print('Information Gain for Age is:', age_information_gain)\n",
        "print('Information Gain for Income is:', income_information_gain)\n",
        "print('Information Gain for Student is:', student_information_gain)\n",
        "print('Information Gain for Credit Rating is :', credit_rating_information_gain)\n",
        "print()\n",
        "\n",
        "root_node = max(age_information_gain, income_information_gain, student_information_gain, credit_rating_information_gain)\n",
        "if root_node == age_information_gain:\n",
        "    print('First feature for constructing decision tree is Age.')\n",
        "elif root_node == income_information_gain:\n",
        "    print('First feature for constructing decision tree is Income.')\n",
        "elif root_node == student_information_gain:\n",
        "    print('First feature for constructing decision tree is Student.')\n",
        "else:\n",
        "    print('First feature for constructing decision tree is Credit Rating.')"
      ]
    },
    {
      "cell_type": "code",
      "source": [
        "import pandas as pd\n",
        "from sklearn.tree import DecisionTreeClassifier\n",
        "\n",
        "\n",
        "\n",
        "data = {\n",
        "    'age': ['<=30', '<=30', '31…40', '>40', '>40', '>40', '31…40', '<=30', '<=30', '>40', '<=30', '31…40', '31…40', '>40'],\n",
        "    'income': ['high', 'high', 'high', 'medium', 'low', 'low', 'low', 'medium', 'low', 'medium', 'medium', 'medium', 'high', 'medium'],\n",
        "    'student': ['no', 'no', 'no', 'no', 'yes', 'yes', 'yes', 'no', 'yes', 'yes', 'yes', 'no', 'yes', 'no'],\n",
        "    'credit_rating': ['fair', 'excellent', 'fair', 'fair', 'fair', 'excellent', 'excellent', 'fair', 'fair', 'fair', 'excellent', 'excellent', 'fair', 'excellent'],\n",
        "    'buys_computer': ['no', 'no', 'yes', 'yes', 'yes', 'no', 'yes', 'no', 'yes', 'yes', 'yes', 'yes', 'yes', 'no']\n",
        "}\n",
        "df = pd.DataFrame(data)\n",
        "df_encoded = df.apply(lambda col: pd.factorize(col)[0])\n",
        "Tr_X = df_encoded.drop(columns=['buys_computer'])\n",
        "Tr_y = df_encoded['buys_computer']\n",
        "model = DecisionTreeClassifier()\n",
        "model.fit(Tr_X, Tr_y)\n",
        "training_accuracy = model.score(Tr_X, Tr_y)\n",
        "print(f\"Training Set Accuracy: {training_accuracy}\")\n",
        "tree_depth = model.get_depth()\n",
        "print(f\"Tree Depth: {tree_depth}\")"
      ],
      "metadata": {
        "colab": {
          "base_uri": "https://localhost:8080/"
        },
        "id": "SzYe9_7Ko1G7",
        "outputId": "bfb072c8-60cc-4d3a-ce2d-8664582705ee"
      },
      "execution_count": 21,
      "outputs": [
        {
          "output_type": "stream",
          "name": "stdout",
          "text": [
            "Training Set Accuracy: 1.0\n",
            "Tree Depth: 4\n"
          ]
        }
      ]
    }
  ]
}