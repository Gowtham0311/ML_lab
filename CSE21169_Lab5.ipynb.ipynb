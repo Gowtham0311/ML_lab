{
  "nbformat": 4,
  "nbformat_minor": 0,
  "metadata": {
    "colab": {
      "provenance": []
    },
    "kernelspec": {
      "name": "python3",
      "display_name": "Python 3"
    },
    "language_info": {
      "name": "python"
    }
  },
  "cells": [
    {
      "cell_type": "code",
      "execution_count": 2,
      "metadata": {
        "colab": {
          "base_uri": "https://localhost:8080/"
        },
        "id": "EhHDD1WoWYyG",
        "outputId": "98d85f7c-2ae0-4d39-822a-c59622e81c04"
      },
      "outputs": [
        {
          "output_type": "stream",
          "name": "stdout",
          "text": [
            "Support Vectors: [[ 0.13562509 29.72344133]\n",
            " [ 0.12391398 31.53596087]\n",
            " [ 0.22078805 18.03378962]\n",
            " ...\n",
            " [ 0.36402689 17.55144244]\n",
            " [ 0.30585243 26.03452018]\n",
            " [ 0.11777881 23.88505747]]\n",
            "Support Vectors: [[ 0.13562509 29.72344133]\n",
            " [ 0.12391398 31.53596087]\n",
            " [ 0.22078805 18.03378962]\n",
            " ...\n",
            " [ 0.36402689 17.55144244]\n",
            " [ 0.30585243 26.03452018]\n",
            " [ 0.11777881 23.88505747]]\n"
          ]
        }
      ],
      "source": [
        "import pandas as pd\n",
        "from sklearn import svm\n",
        "from sklearn.model_selection import train_test_split\n",
        "\n",
        "# Load your dataset from Excel\n",
        "data = pd.read_excel('dataset_final (1).xlsx')\n",
        "\n",
        "X = data[['homogeneity_0', 'dissimilarity_45']]\n",
        "y = data['label']\n",
        "\n",
        "class_1 = 0\n",
        "class_2 = 1\n",
        "\n",
        "# Select rows corresponding to the chosen classes\n",
        "selected_rows = (y == class_1) | (y == class_2)\n",
        "X_selected = X[selected_rows]\n",
        "y_selected = y[selected_rows]\n",
        "\n",
        "# Split the data into training and testing sets\n",
        "X_train, X_test, y_train, y_test = train_test_split(X_selected, y_selected, test_size=0.2, random_state=42)\n",
        "\n",
        "# Train a support vector machine with a linear kernel\n",
        "clf_linear = svm.SVC(kernel='linear')\n",
        "clf_linear.fit(X_train, y_train)\n",
        "\n",
        "# Get the support vectors\n",
        "support_vectors = clf_linear.support_vectors_\n",
        "print(\"Support Vectors:\", support_vectors)\n"
      ]
    },
    {
      "cell_type": "code",
      "source": [
        "# Test the accuracy of the SVM\n",
        "accuracy = clf_linear.score(X_test, y_test)\n",
        "print(\"Accuracy:\", accuracy)\n",
        "\n",
        "# Perform classification for a given vector\n",
        "test_vector = [[1.5, 2.0]]\n",
        "predicted_class = clf_linear.predict(test_vector)\n",
        "print(\"Predicted Class:\", predicted_class)\n"
      ],
      "metadata": {
        "colab": {
          "base_uri": "https://localhost:8080/"
        },
        "id": "P0sqZo0lXFfS",
        "outputId": "b441f2e4-d234-4e41-d390-b2c63cd1dc22"
      },
      "execution_count": 3,
      "outputs": [
        {
          "output_type": "stream",
          "name": "stdout",
          "text": [
            "Accuracy: 0.5632031767041694\n",
            "Predicted Class: [1]\n"
          ]
        },
        {
          "output_type": "stream",
          "name": "stderr",
          "text": [
            "/usr/local/lib/python3.10/dist-packages/sklearn/base.py:439: UserWarning: X does not have valid feature names, but SVC was fitted with feature names\n",
            "  warnings.warn(\n"
          ]
        }
      ]
    },
    {
      "cell_type": "code",
      "source": [
        "# Use the predict function\n",
        "predicted_classes = clf_linear.predict(X_test)\n",
        "print(\"Predicted Classes:\", predicted_classes)\n"
      ],
      "metadata": {
        "colab": {
          "base_uri": "https://localhost:8080/"
        },
        "id": "BuVZIBrSXIBX",
        "outputId": "41236b07-78e0-4ca3-f357-1ccfe7c60e28"
      },
      "execution_count": 4,
      "outputs": [
        {
          "output_type": "stream",
          "name": "stdout",
          "text": [
            "Predicted Classes: [1 0 1 ... 0 1 0]\n"
          ]
        }
      ]
    },
    {
      "cell_type": "code",
      "source": [
        "# Experiment with various kernel functions: 'poly', 'rbf', 'sigmoid'\n",
        "kernels = ['poly', 'rbf', 'sigmoid']\n",
        "\n",
        "for kernel in kernels:\n",
        "    clf = svm.SVC(kernel=kernel)\n",
        "    clf.fit(X_train, y_train)\n",
        "\n",
        "\n",
        "    accuracy = clf.score(X_test, y_test)\n",
        "    print(f\"Accuracy with {kernel} kernel:\", accuracy)\n"
      ],
      "metadata": {
        "colab": {
          "base_uri": "https://localhost:8080/"
        },
        "id": "XqueMpevXKMR",
        "outputId": "bccc6ee2-2aba-4e40-f5d1-97e6a2bdd942"
      },
      "execution_count": 5,
      "outputs": [
        {
          "output_type": "stream",
          "name": "stdout",
          "text": [
            "Accuracy with poly kernel: 0.5320979483785573\n",
            "Accuracy with rbf kernel: 0.5757776307081403\n",
            "Accuracy with sigmoid kernel: 0.5102581072137657\n"
          ]
        }
      ]
    }
  ]
}